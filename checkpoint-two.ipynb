{
 "cells": [
  {
   "cell_type": "markdown",
   "metadata": {
    "azdata_cell_guid": "151601c9-ca7a-412e-af80-c62a87e0837e"
   },
   "source": [
    "# Checkpoint Two: Exploratory Data Analysis\n",
    "\n",
    "Now that your chosen dataset is approved, it is time to start working on your analysis. Use this notebook to perform your EDA and make notes where directed to as you work.\n",
    "\n",
    "## Getting Started\n",
    "\n",
    "Since we have not provided your dataset for you, you will need to load the necessary files in this repository. Make sure to include a link back to the original dataset here as well.\n",
    "\n",
    "My dataset:  https://www.kaggle.com/datasets/fabdelja/autism-screening-for-toddlers?resource=download\n",
    "\n",
    "Your first task in EDA is to import necessary libraries and create a dataframe(s). Make note in the form of code comments of what your thought process is as you work on this setup task."
   ]
  },
  {
   "cell_type": "code",
   "execution_count": 94,
   "metadata": {
    "azdata_cell_guid": "7b503e37-6df5-4433-acfb-678b1346db14"
   },
   "outputs": [
    {
     "data": {
      "text/html": [
       "<div>\n",
       "<style scoped>\n",
       "    .dataframe tbody tr th:only-of-type {\n",
       "        vertical-align: middle;\n",
       "    }\n",
       "\n",
       "    .dataframe tbody tr th {\n",
       "        vertical-align: top;\n",
       "    }\n",
       "\n",
       "    .dataframe thead th {\n",
       "        text-align: right;\n",
       "    }\n",
       "</style>\n",
       "<table border=\"1\" class=\"dataframe\">\n",
       "  <thead>\n",
       "    <tr style=\"text-align: right;\">\n",
       "      <th></th>\n",
       "      <th>Case_No</th>\n",
       "      <th>A1</th>\n",
       "      <th>A2</th>\n",
       "      <th>A3</th>\n",
       "      <th>A4</th>\n",
       "      <th>A5</th>\n",
       "      <th>A6</th>\n",
       "      <th>A7</th>\n",
       "      <th>A8</th>\n",
       "      <th>A9</th>\n",
       "      <th>A10</th>\n",
       "      <th>Age_Mons</th>\n",
       "      <th>Qchat-10-Score</th>\n",
       "      <th>Sex</th>\n",
       "      <th>Ethnicity</th>\n",
       "      <th>Jaundice</th>\n",
       "      <th>Family_mem_with_ASD</th>\n",
       "      <th>Who completed the test</th>\n",
       "      <th>Class/ASD Traits</th>\n",
       "    </tr>\n",
       "  </thead>\n",
       "  <tbody>\n",
       "    <tr>\n",
       "      <th>0</th>\n",
       "      <td>1</td>\n",
       "      <td>0</td>\n",
       "      <td>0</td>\n",
       "      <td>0</td>\n",
       "      <td>0</td>\n",
       "      <td>0</td>\n",
       "      <td>0</td>\n",
       "      <td>1</td>\n",
       "      <td>1</td>\n",
       "      <td>0</td>\n",
       "      <td>1</td>\n",
       "      <td>28</td>\n",
       "      <td>3</td>\n",
       "      <td>f</td>\n",
       "      <td>middle eastern</td>\n",
       "      <td>yes</td>\n",
       "      <td>no</td>\n",
       "      <td>family member</td>\n",
       "      <td>No</td>\n",
       "    </tr>\n",
       "    <tr>\n",
       "      <th>1</th>\n",
       "      <td>2</td>\n",
       "      <td>1</td>\n",
       "      <td>1</td>\n",
       "      <td>0</td>\n",
       "      <td>0</td>\n",
       "      <td>0</td>\n",
       "      <td>1</td>\n",
       "      <td>1</td>\n",
       "      <td>0</td>\n",
       "      <td>0</td>\n",
       "      <td>0</td>\n",
       "      <td>36</td>\n",
       "      <td>4</td>\n",
       "      <td>m</td>\n",
       "      <td>White European</td>\n",
       "      <td>yes</td>\n",
       "      <td>no</td>\n",
       "      <td>family member</td>\n",
       "      <td>Yes</td>\n",
       "    </tr>\n",
       "    <tr>\n",
       "      <th>2</th>\n",
       "      <td>3</td>\n",
       "      <td>1</td>\n",
       "      <td>0</td>\n",
       "      <td>0</td>\n",
       "      <td>0</td>\n",
       "      <td>0</td>\n",
       "      <td>0</td>\n",
       "      <td>1</td>\n",
       "      <td>1</td>\n",
       "      <td>0</td>\n",
       "      <td>1</td>\n",
       "      <td>36</td>\n",
       "      <td>4</td>\n",
       "      <td>m</td>\n",
       "      <td>middle eastern</td>\n",
       "      <td>yes</td>\n",
       "      <td>no</td>\n",
       "      <td>family member</td>\n",
       "      <td>Yes</td>\n",
       "    </tr>\n",
       "    <tr>\n",
       "      <th>3</th>\n",
       "      <td>4</td>\n",
       "      <td>1</td>\n",
       "      <td>1</td>\n",
       "      <td>1</td>\n",
       "      <td>1</td>\n",
       "      <td>1</td>\n",
       "      <td>1</td>\n",
       "      <td>1</td>\n",
       "      <td>1</td>\n",
       "      <td>1</td>\n",
       "      <td>1</td>\n",
       "      <td>24</td>\n",
       "      <td>10</td>\n",
       "      <td>m</td>\n",
       "      <td>Hispanic</td>\n",
       "      <td>no</td>\n",
       "      <td>no</td>\n",
       "      <td>family member</td>\n",
       "      <td>Yes</td>\n",
       "    </tr>\n",
       "    <tr>\n",
       "      <th>4</th>\n",
       "      <td>5</td>\n",
       "      <td>1</td>\n",
       "      <td>1</td>\n",
       "      <td>0</td>\n",
       "      <td>1</td>\n",
       "      <td>1</td>\n",
       "      <td>1</td>\n",
       "      <td>1</td>\n",
       "      <td>1</td>\n",
       "      <td>1</td>\n",
       "      <td>1</td>\n",
       "      <td>20</td>\n",
       "      <td>9</td>\n",
       "      <td>f</td>\n",
       "      <td>White European</td>\n",
       "      <td>no</td>\n",
       "      <td>yes</td>\n",
       "      <td>family member</td>\n",
       "      <td>Yes</td>\n",
       "    </tr>\n",
       "  </tbody>\n",
       "</table>\n",
       "</div>"
      ],
      "text/plain": [
       "   Case_No  A1  A2  A3  A4  A5  A6  A7  A8  A9  A10  Age_Mons  Qchat-10-Score  \\\n",
       "0        1   0   0   0   0   0   0   1   1   0    1        28               3   \n",
       "1        2   1   1   0   0   0   1   1   0   0    0        36               4   \n",
       "2        3   1   0   0   0   0   0   1   1   0    1        36               4   \n",
       "3        4   1   1   1   1   1   1   1   1   1    1        24              10   \n",
       "4        5   1   1   0   1   1   1   1   1   1    1        20               9   \n",
       "\n",
       "  Sex       Ethnicity Jaundice Family_mem_with_ASD Who completed the test  \\\n",
       "0   f  middle eastern      yes                  no          family member   \n",
       "1   m  White European      yes                  no          family member   \n",
       "2   m  middle eastern      yes                  no          family member   \n",
       "3   m        Hispanic       no                  no          family member   \n",
       "4   f  White European       no                 yes          family member   \n",
       "\n",
       "  Class/ASD Traits   \n",
       "0                No  \n",
       "1               Yes  \n",
       "2               Yes  \n",
       "3               Yes  \n",
       "4               Yes  "
      ]
     },
     "execution_count": 94,
     "metadata": {},
     "output_type": "execute_result"
    }
   ],
   "source": [
    "# importing pandas libraries to read and perform actions on the dataset\n",
    "import pandas as pd\n",
    "\n",
    "# importing libraries for visualization\n",
    "import matplotlib.pyplot as plt \n",
    "import seaborn as sns\n",
    "import numpy as np\n",
    "\n",
    "#reading dataset into dataframe\n",
    "df_autism = pd.read_csv(\"Toddler Autism dataset July 2018.csv\")\n",
    "\n",
    "df_autism.head()"
   ]
  },
  {
   "cell_type": "markdown",
   "metadata": {
    "azdata_cell_guid": "129ce836-524b-4ea8-b394-a959f9308d6a"
   },
   "source": [
    "## Get to Know the Numbers\n",
    "\n",
    "Now that you have everything setup, put any code that you use to get to know the dataframe and its rows and columns better in the cell below. You can use whatever techniques you like, except for visualizations. You will put those in a separate section.\n",
    "\n",
    "When working on your code, make sure to leave comments so that your mentors can understand your thought process."
   ]
  },
  {
   "cell_type": "code",
   "execution_count": 95,
   "metadata": {},
   "outputs": [
    {
     "name": "stdout",
     "output_type": "stream",
     "text": [
      "<class 'pandas.core.frame.DataFrame'>\n",
      "RangeIndex: 1054 entries, 0 to 1053\n",
      "Data columns (total 19 columns):\n",
      " #   Column                  Non-Null Count  Dtype \n",
      "---  ------                  --------------  ----- \n",
      " 0   Case_No                 1054 non-null   int64 \n",
      " 1   A1                      1054 non-null   int64 \n",
      " 2   A2                      1054 non-null   int64 \n",
      " 3   A3                      1054 non-null   int64 \n",
      " 4   A4                      1054 non-null   int64 \n",
      " 5   A5                      1054 non-null   int64 \n",
      " 6   A6                      1054 non-null   int64 \n",
      " 7   A7                      1054 non-null   int64 \n",
      " 8   A8                      1054 non-null   int64 \n",
      " 9   A9                      1054 non-null   int64 \n",
      " 10  A10                     1054 non-null   int64 \n",
      " 11  Age_Mons                1054 non-null   int64 \n",
      " 12  Qchat-10-Score          1054 non-null   int64 \n",
      " 13  Sex                     1054 non-null   object\n",
      " 14  Ethnicity               1054 non-null   object\n",
      " 15  Jaundice                1054 non-null   object\n",
      " 16  Family_mem_with_ASD     1054 non-null   object\n",
      " 17  Who completed the test  1054 non-null   object\n",
      " 18  Class/ASD Traits        1054 non-null   object\n",
      "dtypes: int64(13), object(6)\n",
      "memory usage: 156.6+ KB\n"
     ]
    }
   ],
   "source": [
    "# Trying to find if there is any null values.\n",
    "df_autism.info()"
   ]
  },
  {
   "cell_type": "code",
   "execution_count": 96,
   "metadata": {},
   "outputs": [
    {
     "name": "stderr",
     "output_type": "stream",
     "text": [
      "C:\\Users\\sushantjangle\\AppData\\Local\\Temp\\ipykernel_8980\\3764290453.py:6: FutureWarning: Passing a set as an indexer is deprecated and will raise in a future version. Use a list instead.\n",
      "  df_autism[{\"Age_Mons\",\"Qchat-10-Score\"}].describe()\n"
     ]
    },
    {
     "data": {
      "text/html": [
       "<div>\n",
       "<style scoped>\n",
       "    .dataframe tbody tr th:only-of-type {\n",
       "        vertical-align: middle;\n",
       "    }\n",
       "\n",
       "    .dataframe tbody tr th {\n",
       "        vertical-align: top;\n",
       "    }\n",
       "\n",
       "    .dataframe thead th {\n",
       "        text-align: right;\n",
       "    }\n",
       "</style>\n",
       "<table border=\"1\" class=\"dataframe\">\n",
       "  <thead>\n",
       "    <tr style=\"text-align: right;\">\n",
       "      <th></th>\n",
       "      <th>Age_Mons</th>\n",
       "      <th>Qchat-10-Score</th>\n",
       "    </tr>\n",
       "  </thead>\n",
       "  <tbody>\n",
       "    <tr>\n",
       "      <th>count</th>\n",
       "      <td>1054.000000</td>\n",
       "      <td>1054.000000</td>\n",
       "    </tr>\n",
       "    <tr>\n",
       "      <th>mean</th>\n",
       "      <td>27.867173</td>\n",
       "      <td>5.212524</td>\n",
       "    </tr>\n",
       "    <tr>\n",
       "      <th>std</th>\n",
       "      <td>7.980354</td>\n",
       "      <td>2.907304</td>\n",
       "    </tr>\n",
       "    <tr>\n",
       "      <th>min</th>\n",
       "      <td>12.000000</td>\n",
       "      <td>0.000000</td>\n",
       "    </tr>\n",
       "    <tr>\n",
       "      <th>25%</th>\n",
       "      <td>23.000000</td>\n",
       "      <td>3.000000</td>\n",
       "    </tr>\n",
       "    <tr>\n",
       "      <th>50%</th>\n",
       "      <td>30.000000</td>\n",
       "      <td>5.000000</td>\n",
       "    </tr>\n",
       "    <tr>\n",
       "      <th>75%</th>\n",
       "      <td>36.000000</td>\n",
       "      <td>8.000000</td>\n",
       "    </tr>\n",
       "    <tr>\n",
       "      <th>max</th>\n",
       "      <td>36.000000</td>\n",
       "      <td>10.000000</td>\n",
       "    </tr>\n",
       "  </tbody>\n",
       "</table>\n",
       "</div>"
      ],
      "text/plain": [
       "          Age_Mons  Qchat-10-Score\n",
       "count  1054.000000     1054.000000\n",
       "mean     27.867173        5.212524\n",
       "std       7.980354        2.907304\n",
       "min      12.000000        0.000000\n",
       "25%      23.000000        3.000000\n",
       "50%      30.000000        5.000000\n",
       "75%      36.000000        8.000000\n",
       "max      36.000000       10.000000"
      ]
     },
     "execution_count": 96,
     "metadata": {},
     "output_type": "execute_result"
    }
   ],
   "source": [
    "# After excuting we can confim there are 1054 observations in our dataset with 19 attributes, all with no missing values.\n",
    "# Columns A1, A2, A3, A4,A5, A6, A7, A8, A9 and A10 are defined as numbers due to the values being 0 or 1\n",
    "# but they are actually categorical, something I need to note while analyzing.\n",
    "\n",
    "# As most of my columns are categorical, I will get the numerical stats for only the relevant fields Age of Months and Score.\n",
    "df_autism[{\"Age_Mons\",\"Qchat-10-Score\"}].describe()"
   ]
  },
  {
   "cell_type": "markdown",
   "metadata": {
    "azdata_cell_guid": "d45060f3-97bc-484a-9ef4-66145bbe9427"
   },
   "source": [
    "## Visualize\n",
    "\n",
    "Create any visualizations for your EDA here. Make note in the form of code comments of what your thought process is for your visualizations."
   ]
  },
  {
   "cell_type": "code",
   "execution_count": 97,
   "metadata": {},
   "outputs": [
    {
     "data": {
      "image/png": "[encoded data removed]",
      "text/plain": [
       "<Figure size 432x288 with 1 Axes>"
      ]
     },
     "metadata": {
      "needs_background": "light"
     },
     "output_type": "display_data"
    }
   ],
   "source": [
    "# Want to check the observations made at different Age of months\n",
    "sns.histplot(df_autism['Age_Mons'], color='lightblue')\n",
    "plt.show()"
   ]
  },
  {
   "cell_type": "code",
   "execution_count": 98,
   "metadata": {
    "azdata_cell_guid": "f4565b03-759a-47a8-b58f-01b32a0b4b67"
   },
   "outputs": [
    {
     "data": {
      "image/png": "[encoded data removed]",
      "text/plain": [
       "<Figure size 432x360 with 1 Axes>"
      ]
     },
     "metadata": {
      "needs_background": "light"
     },
     "output_type": "display_data"
    }
   ],
   "source": [
    "# Want to check the observations made by gender\n",
    "names = df_autism[\"Sex\"].value_counts().keys()\n",
    "counts = df_autism[\"Sex\"].value_counts().values\n",
    "plt.subplots(figsize= (6,5))\n",
    "plt.bar(names, counts, color = \"green\")\n",
    "plt.xlabel(\"Gender of kids\")\n",
    "plt.ylabel(\"Count\")\n",
    "plt.title(\"Gender Observations\")\n",
    "plt.show()"
   ]
  },
  {
   "cell_type": "code",
   "execution_count": 99,
   "metadata": {},
   "outputs": [
    {
     "data": {
      "image/png": "[encoded data removed]",
      "text/plain": [
       "<Figure size 1440x360 with 1 Axes>"
      ]
     },
     "metadata": {
      "needs_background": "light"
     },
     "output_type": "display_data"
    }
   ],
   "source": [
    "# Want to check the observations made by Ethnicity\n",
    "names = df_autism[\"Ethnicity\"].value_counts().keys()\n",
    "counts = df_autism[\"Ethnicity\"].value_counts().values\n",
    "plt.subplots(figsize= (20,5))\n",
    "plt.bar(names, counts, color = \"orange\")\n",
    "plt.xlabel(\"Ethnicity of kids\")\n",
    "plt.ylabel(\"Count\")\n",
    "plt.title(\"Ethnicity Observations\")\n",
    "plt.show()"
   ]
  },
  {
   "cell_type": "code",
   "execution_count": 100,
   "metadata": {},
   "outputs": [
    {
     "data": {
      "image/png": "[encoded data removed]",
      "text/plain": [
       "<Figure size 432x360 with 1 Axes>"
      ]
     },
     "metadata": {
      "needs_background": "light"
     },
     "output_type": "display_data"
    }
   ],
   "source": [
    "# Want to check the observations due to by Family history\n",
    "names = df_autism[\"Family_mem_with_ASD\"].value_counts().keys()\n",
    "counts = df_autism[\"Family_mem_with_ASD\"].value_counts().values\n",
    "plt.subplots(figsize= (6,5))\n",
    "plt.bar(names, counts, color = \"purple\")\n",
    "plt.xlabel(\"Due to Genetics\")\n",
    "plt.ylabel(\"Count\")\n",
    "plt.title(\"Autism due to Genetics\")\n",
    "plt.show()"
   ]
  },
  {
   "cell_type": "code",
   "execution_count": 102,
   "metadata": {
    "scrolled": true
   },
   "outputs": [
    {
     "data": {
      "image/png": "[encoded data removed]",
      "text/plain": [
       "<Figure size 1440x360 with 1 Axes>"
      ]
     },
     "metadata": {
      "needs_background": "light"
     },
     "output_type": "display_data"
    }
   ],
   "source": [
    "# Want to check the observations Who completed the test\n",
    "names = df_autism[\"Who completed the test\"].value_counts().keys()\n",
    "counts = df_autism[\"Who completed the test\"].value_counts().values\n",
    "plt.subplots(figsize= (20,5))\n",
    "plt.bar(names, counts, color = \"pink\")\n",
    "plt.xlabel(\"Who completed the test\")\n",
    "plt.ylabel(\"Count\")\n",
    "plt.title(\"Summary of Who completed the test\")\n",
    "plt.show()\n"
   ]
  },
  {
   "cell_type": "markdown",
   "metadata": {
    "azdata_cell_guid": "d4931c0c-2c09-4ee1-95d4-73dd08c2f0a6"
   },
   "source": [
    "## Summarize Your Results\n",
    "\n",
    "With your EDA complete, answer the following questions.\n",
    "\n",
    "1. Was there anything surprising about your dataset? \n",
    "   Autism obervations were taken more for toddler boys than girls.\n",
    "   More observations were made for toddlers more than 35 months.\n",
    "   Majority(90%+) of the tests were done by family members.\n",
    "   \n",
    "2. Do you have any concerns about your dataset? \n",
    "   Columns A1, A2, A3, A4,A5, A6, A7, A8, A9 and A10 are defined as numbers due to the values being 0 or 1\n",
    "   but they are actually categorical, something I need to note while analyzing.\n",
    "\n",
    "3. Is there anything you want to make note of for the next phase of your analysis, which is cleaning data? \n",
    "   May be change the columns A1 to A10 from integer to categorical if analysis are needed on the tests questionnaire.\n",
    "   There are no missing values but need to check if any cleaning is needed for the categorical data."
   ]
  }
 ],
 "metadata": {
  "kernelspec": {
   "display_name": "Python 3 (ipykernel)",
   "language": "python",
   "name": "python3"
  },
  "language_info": {
   "codemirror_mode": {
    "name": "ipython",
    "version": 3
   },
   "file_extension": ".py",
   "mimetype": "text/x-python",
   "name": "python",
   "nbconvert_exporter": "python",
   "pygments_lexer": "ipython3",
   "version": "3.9.12"
  }
 },
 "nbformat": 4,
 "nbformat_minor": 2
}
